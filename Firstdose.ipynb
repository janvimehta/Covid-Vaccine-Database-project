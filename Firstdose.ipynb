{
 "cells": [
  {
   "cell_type": "code",
   "execution_count": 4,
   "id": "1bf59981",
   "metadata": {},
   "outputs": [],
   "source": [
    "import tweepy #Library required for Twitter API\n",
    "import csv, re\n",
    "import pandas as pd\n",
    "import os\n",
    "import wget\n",
    "import logging"
   ]
  },
  {
   "cell_type": "code",
   "execution_count": 5,
   "id": "06885eca",
   "metadata": {},
   "outputs": [],
   "source": [
    "consumer_key = \"ft8FvWXqvn3oaic0UaFMiAGnS\"\n",
    "consumer_secret = \"pFiMxF1ujEdTaDcYA9HW4aSsqw2N9RG941sLwAzWsy4uKt1dRe\"\n",
    "access_key = \"1590445771173699584-7ZmM7RsIuP0UaNT8uNwnhkuGF1iNqZ\"\n",
    "access_secret = \"qHt8xzC9KagetRMXLf9wlNrKMimCXiXU5cJB25WSF5T3h\""
   ]
  },
  {
   "cell_type": "code",
   "execution_count": 6,
   "id": "ab31be46",
   "metadata": {},
   "outputs": [
    {
     "name": "stdout",
     "output_type": "stream",
     "text": [
      "2022-11-11 00:00:00\n"
     ]
    }
   ],
   "source": [
    "import datetime, time\n",
    "last_week = datetime.date.today() - datetime.timedelta(9)\n",
    "since_tweets = datetime.datetime.strptime(time.strftime(\"%Y-%m-%d\"), \"%Y-%m-%d\")\n",
    "print (since_tweets)"
   ]
  },
  {
   "cell_type": "code",
   "execution_count": 7,
   "id": "95d4ae6a",
   "metadata": {},
   "outputs": [
    {
     "name": "stdout",
     "output_type": "stream",
     "text": [
      "Authentication OK\n"
     ]
    }
   ],
   "source": [
    "auth = tweepy.OAuthHandler(consumer_key, consumer_secret)\n",
    "auth.set_access_token(access_key, access_secret)\n",
    "api = tweepy.API(auth,wait_on_rate_limit=True)\n",
    "\n",
    "try:\n",
    "    api.verify_credentials()\n",
    "    print(\"Authentication OK\")\n",
    "except:\n",
    "    print(\"Error during authentication\")"
   ]
  },
  {
   "cell_type": "code",
   "execution_count": 8,
   "id": "e0e36499",
   "metadata": {},
   "outputs": [
    {
     "name": "stdout",
     "output_type": "stream",
     "text": [
      "President Biden said The climate crisis is about human, economic, environmental, and national security. But with innovation and cooperat… https://t.co/peu4IaT4wt\n",
      "President Biden said Veterans Day is personal to me and my family.\n",
      "\n",
      "Jill and I know the pride that comes with seeing your child wear the… https://t.co/EK1DLTzUrR\n",
      "President Biden said Our veterans are the spine of America.\n",
      "\n",
      "And as a nation, we have but one truly sacred obligation: to prepare and eq… https://t.co/NjdLGaxsfS\n",
      "President Biden said Tune in as I deliver remarks at the 27th Conference of the Parties to the UN Framework Convention on Climate Change… https://t.co/QJ0WESTgI2\n",
      "Boston Marathon said Thank you to all of the men and women who have served and continue to serve our country and the military families w… https://t.co/izq1DUzZWO\n",
      "President Biden said Let us honor them by living up to their example: putting service before self, caring for our neighbors, and working… https://t.co/HqF62rCrfL\n",
      "President Biden said This Veterans Day, we honor generations of patriots who have earned the title of “American veteran” — a badge of co… https://t.co/E2qGrWNGk3\n",
      "President Biden said Tomorrow, I'll join other global leaders at the COP27 in Egypt.\n",
      "\n",
      "We're living in a decisive decade – one in which w… https://t.co/c11WH80m3J\n",
      "President Biden said My economic plan is working – and Americans are starting to feel it.\n",
      " \n",
      "It’s going to take time to get inflation bac… https://t.co/2lkufC7HRb\n",
      "President Biden said When I was sworn in, the unemployment rate was 6.4%.\n",
      " \n",
      "Today, it's 3.7% – near a 50-year low.\n",
      "President Biden said It's going to take time to get inflation back to normal levels – and we could see setbacks along the way – but with… https://t.co/zguPWAwvyJ\n",
      "President Biden said Happy 247th Birthday, @USMC! https://t.co/cq1xrx5ADi\n",
      "President Biden said We're making progress fighting inflation and helping families with higher costs by delivering historic legislation… https://t.co/Rp6byG6b9z\n",
      "President Biden said We have a choice to make.\n",
      " \n",
      "Repeat what happened in past winters with more loved ones getting sick from COVID.\n",
      " \n",
      "Or… https://t.co/mTcy1AA6cY\n",
      "President Biden said I am so optimistic about the prospects for America. We need to be looking to the future, not fixated on the past. https://t.co/Vh7LLoqodd\n",
      "President Biden said I will work with anyone to provide more breathing room for American families. And I will oppose any effort to undo… https://t.co/AQmHkbglq6\n",
      "President Biden said Americans are paying $1.20 less a gallon of gas than this summer, getting a much-needed break at the grocery store… https://t.co/sh0BfqOCSv\n",
      "President Biden said Today’s inflation report shows my plan is working and folks are starting to see progress.\n",
      "\n",
      "It's been a hard 2 years… https://t.co/I6P9wW52a1\n",
      "President Biden said Empathy fuels democracy. https://t.co/te8Rw4wAow\n",
      "President Biden said With their votes, the American people have spoken and proven once again democracy is who we are. https://t.co/CUJwmkcf2h\n"
     ]
    }
   ],
   "source": [
    "timeline = api.home_timeline()\n",
    "for tweet in timeline:\n",
    "    print(f\"{tweet.user.name} said {tweet.text}\")"
   ]
  },
  {
   "cell_type": "code",
   "execution_count": 255,
   "id": "1a6fafda",
   "metadata": {},
   "outputs": [
    {
     "name": "stdout",
     "output_type": "stream",
     "text": [
      "2022-11-12 00:00:00\n",
      "Firstdose\n",
      "num_tweets 500\n"
     ]
    }
   ],
   "source": [
    "import datetime, time\n",
    "now = datetime.date.today()\n",
    "date_since = datetime.datetime.strptime(time.strftime(\"%Y-%m-%d\"), \"%Y-%m-%d\")\n",
    "print (date_since)\n",
    "keywords=['Firstdose']\n",
    "print (' '.join(keywords))\n",
    "num_tweets=500\n",
    "print ( \"num_tweets\",num_tweets)"
   ]
  },
  {
   "cell_type": "code",
   "execution_count": 275,
   "id": "0d577cfc",
   "metadata": {},
   "outputs": [],
   "source": [
    "new_search = \"covid+dose -filter:retweets\""
   ]
  },
  {
   "cell_type": "code",
   "execution_count": 276,
   "id": "aa36b296",
   "metadata": {},
   "outputs": [],
   "source": [
    "# https://developer.twitter.com/en/docs/twitter-api/v1/tweets/search/api-reference/get-search-tweets\n",
    "# https://docs.tweepy.org/en/stable/api.html#search-tweets\n",
    "tweets = tweepy.Cursor(api.search_tweets,\n",
    "              q=new_search,\n",
    "              lang=\"en\",\n",
    "              until=date_since).items(num_tweets)"
   ]
  },
  {
   "cell_type": "code",
   "execution_count": 277,
   "id": "f5e40e5b",
   "metadata": {},
   "outputs": [
    {
     "name": "stdout",
     "output_type": "stream",
     "text": [
      "0\n",
      "Status(_api=<tweepy.api.API object at 0x0000019C964FF490>, _json={'created_at': 'Fri Nov 11 23:22:41 +0000 2022', 'id': 1591209831075311616, 'id_str': '1591209831075311616', 'text': '$15.00 a dose. The federal government orders too many doses and then throws away millions of doses due to expiry. N… https://t.co/GTS5UlkiTd', 'truncated': True, 'entities': {'hashtags': [], 'symbols': [], 'user_mentions': [], 'urls': [{'url': 'https://t.co/GTS5UlkiTd', 'expanded_url': 'https://twitter.com/i/web/status/1591209831075311616', 'display_url': 'twitter.com/i/web/status/1…', 'indices': [117, 140]}]}, 'metadata': {'iso_language_code': 'en', 'result_type': 'recent'}, 'source': '<a href=\"https://mobile.twitter.com\" rel=\"nofollow\">Twitter Web App</a>', 'in_reply_to_status_id': None, 'in_reply_to_status_id_str': None, 'in_reply_to_user_id': None, 'in_reply_to_user_id_str': None, 'in_reply_to_screen_name': None, 'user': {'id': 2437598251, 'id_str': '2437598251', 'name': 'Reagan Nelson', 'screen_name': 'rddragster', 'location': 'Red Deer, AB', 'description': '', 'url': None, 'entities': {'description': {'urls': []}}, 'protected': False, 'followers_count': 14, 'friends_count': 33, 'listed_count': 0, 'created_at': 'Thu Apr 10 22:36:08 +0000 2014', 'favourites_count': 423, 'utc_offset': None, 'time_zone': None, 'geo_enabled': True, 'verified': False, 'statuses_count': 183, 'lang': None, 'contributors_enabled': False, 'is_translator': False, 'is_translation_enabled': False, 'profile_background_color': 'C0DEED', 'profile_background_image_url': 'http://abs.twimg.com/images/themes/theme1/bg.png', 'profile_background_image_url_https': 'https://abs.twimg.com/images/themes/theme1/bg.png', 'profile_background_tile': False, 'profile_image_url': 'http://pbs.twimg.com/profile_images/454393850828558336/zMKXa6WO_normal.jpeg', 'profile_image_url_https': 'https://pbs.twimg.com/profile_images/454393850828558336/zMKXa6WO_normal.jpeg', 'profile_banner_url': 'https://pbs.twimg.com/profile_banners/2437598251/1397172565', 'profile_link_color': '1DA1F2', 'profile_sidebar_border_color': 'C0DEED', 'profile_sidebar_fill_color': 'DDEEF6', 'profile_text_color': '333333', 'profile_use_background_image': True, 'has_extended_profile': False, 'default_profile': True, 'default_profile_image': False, 'following': False, 'follow_request_sent': False, 'notifications': False, 'translator_type': 'none', 'withheld_in_countries': []}, 'geo': None, 'coordinates': None, 'place': None, 'contributors': None, 'is_quote_status': False, 'retweet_count': 0, 'favorite_count': 0, 'favorited': False, 'retweeted': False, 'possibly_sensitive': False, 'lang': 'en'}, created_at=datetime.datetime(2022, 11, 11, 23, 22, 41, tzinfo=datetime.timezone.utc), id=1591209831075311616, id_str='1591209831075311616', text='$15.00 a dose. The federal government orders too many doses and then throws away millions of doses due to expiry. N… https://t.co/GTS5UlkiTd', truncated=True, entities={'hashtags': [], 'symbols': [], 'user_mentions': [], 'urls': [{'url': 'https://t.co/GTS5UlkiTd', 'expanded_url': 'https://twitter.com/i/web/status/1591209831075311616', 'display_url': 'twitter.com/i/web/status/1…', 'indices': [117, 140]}]}, metadata={'iso_language_code': 'en', 'result_type': 'recent'}, source='Twitter Web App', source_url='https://mobile.twitter.com', in_reply_to_status_id=None, in_reply_to_status_id_str=None, in_reply_to_user_id=None, in_reply_to_user_id_str=None, in_reply_to_screen_name=None, author=User(_api=<tweepy.api.API object at 0x0000019C964FF490>, _json={'id': 2437598251, 'id_str': '2437598251', 'name': 'Reagan Nelson', 'screen_name': 'rddragster', 'location': 'Red Deer, AB', 'description': '', 'url': None, 'entities': {'description': {'urls': []}}, 'protected': False, 'followers_count': 14, 'friends_count': 33, 'listed_count': 0, 'created_at': 'Thu Apr 10 22:36:08 +0000 2014', 'favourites_count': 423, 'utc_offset': None, 'time_zone': None, 'geo_enabled': True, 'verified': False, 'statuses_count': 183, 'lang': None, 'contributors_enabled': False, 'is_translator': False, 'is_translation_enabled': False, 'profile_background_color': 'C0DEED', 'profile_background_image_url': 'http://abs.twimg.com/images/themes/theme1/bg.png', 'profile_background_image_url_https': 'https://abs.twimg.com/images/themes/theme1/bg.png', 'profile_background_tile': False, 'profile_image_url': 'http://pbs.twimg.com/profile_images/454393850828558336/zMKXa6WO_normal.jpeg', 'profile_image_url_https': 'https://pbs.twimg.com/profile_images/454393850828558336/zMKXa6WO_normal.jpeg', 'profile_banner_url': 'https://pbs.twimg.com/profile_banners/2437598251/1397172565', 'profile_link_color': '1DA1F2', 'profile_sidebar_border_color': 'C0DEED', 'profile_sidebar_fill_color': 'DDEEF6', 'profile_text_color': '333333', 'profile_use_background_image': True, 'has_extended_profile': False, 'default_profile': True, 'default_profile_image': False, 'following': False, 'follow_request_sent': False, 'notifications': False, 'translator_type': 'none', 'withheld_in_countries': []}, id=2437598251, id_str='2437598251', name='Reagan Nelson', screen_name='rddragster', location='Red Deer, AB', description='', url=None, entities={'description': {'urls': []}}, protected=False, followers_count=14, friends_count=33, listed_count=0, created_at=datetime.datetime(2014, 4, 10, 22, 36, 8, tzinfo=datetime.timezone.utc), favourites_count=423, utc_offset=None, time_zone=None, geo_enabled=True, verified=False, statuses_count=183, lang=None, contributors_enabled=False, is_translator=False, is_translation_enabled=False, profile_background_color='C0DEED', profile_background_image_url='http://abs.twimg.com/images/themes/theme1/bg.png', profile_background_image_url_https='https://abs.twimg.com/images/themes/theme1/bg.png', profile_background_tile=False, profile_image_url='http://pbs.twimg.com/profile_images/454393850828558336/zMKXa6WO_normal.jpeg', profile_image_url_https='https://pbs.twimg.com/profile_images/454393850828558336/zMKXa6WO_normal.jpeg', profile_banner_url='https://pbs.twimg.com/profile_banners/2437598251/1397172565', profile_link_color='1DA1F2', profile_sidebar_border_color='C0DEED', profile_sidebar_fill_color='DDEEF6', profile_text_color='333333', profile_use_background_image=True, has_extended_profile=False, default_profile=True, default_profile_image=False, following=False, follow_request_sent=False, notifications=False, translator_type='none', withheld_in_countries=[]), user=User(_api=<tweepy.api.API object at 0x0000019C964FF490>, _json={'id': 2437598251, 'id_str': '2437598251', 'name': 'Reagan Nelson', 'screen_name': 'rddragster', 'location': 'Red Deer, AB', 'description': '', 'url': None, 'entities': {'description': {'urls': []}}, 'protected': False, 'followers_count': 14, 'friends_count': 33, 'listed_count': 0, 'created_at': 'Thu Apr 10 22:36:08 +0000 2014', 'favourites_count': 423, 'utc_offset': None, 'time_zone': None, 'geo_enabled': True, 'verified': False, 'statuses_count': 183, 'lang': None, 'contributors_enabled': False, 'is_translator': False, 'is_translation_enabled': False, 'profile_background_color': 'C0DEED', 'profile_background_image_url': 'http://abs.twimg.com/images/themes/theme1/bg.png', 'profile_background_image_url_https': 'https://abs.twimg.com/images/themes/theme1/bg.png', 'profile_background_tile': False, 'profile_image_url': 'http://pbs.twimg.com/profile_images/454393850828558336/zMKXa6WO_normal.jpeg', 'profile_image_url_https': 'https://pbs.twimg.com/profile_images/454393850828558336/zMKXa6WO_normal.jpeg', 'profile_banner_url': 'https://pbs.twimg.com/profile_banners/2437598251/1397172565', 'profile_link_color': '1DA1F2', 'profile_sidebar_border_color': 'C0DEED', 'profile_sidebar_fill_color': 'DDEEF6', 'profile_text_color': '333333', 'profile_use_background_image': True, 'has_extended_profile': False, 'default_profile': True, 'default_profile_image': False, 'following': False, 'follow_request_sent': False, 'notifications': False, 'translator_type': 'none', 'withheld_in_countries': []}, id=2437598251, id_str='2437598251', name='Reagan Nelson', screen_name='rddragster', location='Red Deer, AB', description='', url=None, entities={'description': {'urls': []}}, protected=False, followers_count=14, friends_count=33, listed_count=0, created_at=datetime.datetime(2014, 4, 10, 22, 36, 8, tzinfo=datetime.timezone.utc), favourites_count=423, utc_offset=None, time_zone=None, geo_enabled=True, verified=False, statuses_count=183, lang=None, contributors_enabled=False, is_translator=False, is_translation_enabled=False, profile_background_color='C0DEED', profile_background_image_url='http://abs.twimg.com/images/themes/theme1/bg.png', profile_background_image_url_https='https://abs.twimg.com/images/themes/theme1/bg.png', profile_background_tile=False, profile_image_url='http://pbs.twimg.com/profile_images/454393850828558336/zMKXa6WO_normal.jpeg', profile_image_url_https='https://pbs.twimg.com/profile_images/454393850828558336/zMKXa6WO_normal.jpeg', profile_banner_url='https://pbs.twimg.com/profile_banners/2437598251/1397172565', profile_link_color='1DA1F2', profile_sidebar_border_color='C0DEED', profile_sidebar_fill_color='DDEEF6', profile_text_color='333333', profile_use_background_image=True, has_extended_profile=False, default_profile=True, default_profile_image=False, following=False, follow_request_sent=False, notifications=False, translator_type='none', withheld_in_countries=[]), geo=None, coordinates=None, place=None, contributors=None, is_quote_status=False, retweet_count=0, favorite_count=0, favorited=False, retweeted=False, possibly_sensitive=False, lang='en')\n",
      "1\n",
      "Status(_api=<tweepy.api.API object at 0x0000019C964FF490>, _json={'created_at': 'Wed Nov 09 23:46:00 +0000 2022', 'id': 1590490921535143936, 'id_str': '1590490921535143936', 'text': 'Come get your FREE updated (bivalent) COVID-19 booster at Purcellville Library on Thursday, November 17 from 3:00-5… https://t.co/Fq9BLM99mf', 'truncated': True, 'entities': {'hashtags': [], 'symbols': [], 'user_mentions': [], 'urls': [{'url': 'https://t.co/Fq9BLM99mf', 'expanded_url': 'https://twitter.com/i/web/status/1590490921535143936', 'display_url': 'twitter.com/i/web/status/1…', 'indices': [117, 140]}]}, 'metadata': {'iso_language_code': 'en', 'result_type': 'recent'}, 'source': '<a href=\"https://mobile.twitter.com\" rel=\"nofollow\">Twitter Web App</a>', 'in_reply_to_status_id': None, 'in_reply_to_status_id_str': None, 'in_reply_to_user_id': None, 'in_reply_to_user_id_str': None, 'in_reply_to_screen_name': None, 'user': {'id': 242339104, 'id_str': '242339104', 'name': 'Loudoun Health Dept', 'screen_name': 'LoudounCoHealth', 'location': 'Loudoun County Virginia', 'description': 'The Loudoun County Health Department provides a wide range of health care services and works to ensure the health and well-being of Loudoun County residents.', 'url': 'https://t.co/SoskdGNOYE', 'entities': {'url': {'urls': [{'url': 'https://t.co/SoskdGNOYE', 'expanded_url': 'https://linktr.ee/loudouncountyhealthdepartment', 'display_url': 'linktr.ee/loudouncountyh…', 'indices': [0, 23]}]}, 'description': {'urls': []}}, 'protected': False, 'followers_count': 553, 'friends_count': 98, 'listed_count': 24, 'created_at': 'Mon Jan 24 15:11:40 +0000 2011', 'favourites_count': 137, 'utc_offset': None, 'time_zone': None, 'geo_enabled': True, 'verified': True, 'statuses_count': 750, 'lang': None, 'contributors_enabled': False, 'is_translator': False, 'is_translation_enabled': False, 'profile_background_color': 'EBEBEB', 'profile_background_image_url': 'http://abs.twimg.com/images/themes/theme7/bg.gif', 'profile_background_image_url_https': 'https://abs.twimg.com/images/themes/theme7/bg.gif', 'profile_background_tile': False, 'profile_image_url': 'http://pbs.twimg.com/profile_images/1362115921/LCHD_Logo_-_No_Words_normal.jpg', 'profile_image_url_https': 'https://pbs.twimg.com/profile_images/1362115921/LCHD_Logo_-_No_Words_normal.jpg', 'profile_link_color': '990000', 'profile_sidebar_border_color': 'DFDFDF', 'profile_sidebar_fill_color': 'F3F3F3', 'profile_text_color': '333333', 'profile_use_background_image': True, 'has_extended_profile': False, 'default_profile': False, 'default_profile_image': False, 'following': False, 'follow_request_sent': False, 'notifications': False, 'translator_type': 'none', 'withheld_in_countries': []}, 'geo': None, 'coordinates': None, 'place': None, 'contributors': None, 'is_quote_status': False, 'retweet_count': 1, 'favorite_count': 2, 'favorited': False, 'retweeted': False, 'possibly_sensitive': False, 'lang': 'en'}, created_at=datetime.datetime(2022, 11, 9, 23, 46, tzinfo=datetime.timezone.utc), id=1590490921535143936, id_str='1590490921535143936', text='Come get your FREE updated (bivalent) COVID-19 booster at Purcellville Library on Thursday, November 17 from 3:00-5… https://t.co/Fq9BLM99mf', truncated=True, entities={'hashtags': [], 'symbols': [], 'user_mentions': [], 'urls': [{'url': 'https://t.co/Fq9BLM99mf', 'expanded_url': 'https://twitter.com/i/web/status/1590490921535143936', 'display_url': 'twitter.com/i/web/status/1…', 'indices': [117, 140]}]}, metadata={'iso_language_code': 'en', 'result_type': 'recent'}, source='Twitter Web App', source_url='https://mobile.twitter.com', in_reply_to_status_id=None, in_reply_to_status_id_str=None, in_reply_to_user_id=None, in_reply_to_user_id_str=None, in_reply_to_screen_name=None, author=User(_api=<tweepy.api.API object at 0x0000019C964FF490>, _json={'id': 242339104, 'id_str': '242339104', 'name': 'Loudoun Health Dept', 'screen_name': 'LoudounCoHealth', 'location': 'Loudoun County Virginia', 'description': 'The Loudoun County Health Department provides a wide range of health care services and works to ensure the health and well-being of Loudoun County residents.', 'url': 'https://t.co/SoskdGNOYE', 'entities': {'url': {'urls': [{'url': 'https://t.co/SoskdGNOYE', 'expanded_url': 'https://linktr.ee/loudouncountyhealthdepartment', 'display_url': 'linktr.ee/loudouncountyh…', 'indices': [0, 23]}]}, 'description': {'urls': []}}, 'protected': False, 'followers_count': 553, 'friends_count': 98, 'listed_count': 24, 'created_at': 'Mon Jan 24 15:11:40 +0000 2011', 'favourites_count': 137, 'utc_offset': None, 'time_zone': None, 'geo_enabled': True, 'verified': True, 'statuses_count': 750, 'lang': None, 'contributors_enabled': False, 'is_translator': False, 'is_translation_enabled': False, 'profile_background_color': 'EBEBEB', 'profile_background_image_url': 'http://abs.twimg.com/images/themes/theme7/bg.gif', 'profile_background_image_url_https': 'https://abs.twimg.com/images/themes/theme7/bg.gif', 'profile_background_tile': False, 'profile_image_url': 'http://pbs.twimg.com/profile_images/1362115921/LCHD_Logo_-_No_Words_normal.jpg', 'profile_image_url_https': 'https://pbs.twimg.com/profile_images/1362115921/LCHD_Logo_-_No_Words_normal.jpg', 'profile_link_color': '990000', 'profile_sidebar_border_color': 'DFDFDF', 'profile_sidebar_fill_color': 'F3F3F3', 'profile_text_color': '333333', 'profile_use_background_image': True, 'has_extended_profile': False, 'default_profile': False, 'default_profile_image': False, 'following': False, 'follow_request_sent': False, 'notifications': False, 'translator_type': 'none', 'withheld_in_countries': []}, id=242339104, id_str='242339104', name='Loudoun Health Dept', screen_name='LoudounCoHealth', location='Loudoun County Virginia', description='The Loudoun County Health Department provides a wide range of health care services and works to ensure the health and well-being of Loudoun County residents.', url='https://t.co/SoskdGNOYE', entities={'url': {'urls': [{'url': 'https://t.co/SoskdGNOYE', 'expanded_url': 'https://linktr.ee/loudouncountyhealthdepartment', 'display_url': 'linktr.ee/loudouncountyh…', 'indices': [0, 23]}]}, 'description': {'urls': []}}, protected=False, followers_count=553, friends_count=98, listed_count=24, created_at=datetime.datetime(2011, 1, 24, 15, 11, 40, tzinfo=datetime.timezone.utc), favourites_count=137, utc_offset=None, time_zone=None, geo_enabled=True, verified=True, statuses_count=750, lang=None, contributors_enabled=False, is_translator=False, is_translation_enabled=False, profile_background_color='EBEBEB', profile_background_image_url='http://abs.twimg.com/images/themes/theme7/bg.gif', profile_background_image_url_https='https://abs.twimg.com/images/themes/theme7/bg.gif', profile_background_tile=False, profile_image_url='http://pbs.twimg.com/profile_images/1362115921/LCHD_Logo_-_No_Words_normal.jpg', profile_image_url_https='https://pbs.twimg.com/profile_images/1362115921/LCHD_Logo_-_No_Words_normal.jpg', profile_link_color='990000', profile_sidebar_border_color='DFDFDF', profile_sidebar_fill_color='F3F3F3', profile_text_color='333333', profile_use_background_image=True, has_extended_profile=False, default_profile=False, default_profile_image=False, following=False, follow_request_sent=False, notifications=False, translator_type='none', withheld_in_countries=[]), user=User(_api=<tweepy.api.API object at 0x0000019C964FF490>, _json={'id': 242339104, 'id_str': '242339104', 'name': 'Loudoun Health Dept', 'screen_name': 'LoudounCoHealth', 'location': 'Loudoun County Virginia', 'description': 'The Loudoun County Health Department provides a wide range of health care services and works to ensure the health and well-being of Loudoun County residents.', 'url': 'https://t.co/SoskdGNOYE', 'entities': {'url': {'urls': [{'url': 'https://t.co/SoskdGNOYE', 'expanded_url': 'https://linktr.ee/loudouncountyhealthdepartment', 'display_url': 'linktr.ee/loudouncountyh…', 'indices': [0, 23]}]}, 'description': {'urls': []}}, 'protected': False, 'followers_count': 553, 'friends_count': 98, 'listed_count': 24, 'created_at': 'Mon Jan 24 15:11:40 +0000 2011', 'favourites_count': 137, 'utc_offset': None, 'time_zone': None, 'geo_enabled': True, 'verified': True, 'statuses_count': 750, 'lang': None, 'contributors_enabled': False, 'is_translator': False, 'is_translation_enabled': False, 'profile_background_color': 'EBEBEB', 'profile_background_image_url': 'http://abs.twimg.com/images/themes/theme7/bg.gif', 'profile_background_image_url_https': 'https://abs.twimg.com/images/themes/theme7/bg.gif', 'profile_background_tile': False, 'profile_image_url': 'http://pbs.twimg.com/profile_images/1362115921/LCHD_Logo_-_No_Words_normal.jpg', 'profile_image_url_https': 'https://pbs.twimg.com/profile_images/1362115921/LCHD_Logo_-_No_Words_normal.jpg', 'profile_link_color': '990000', 'profile_sidebar_border_color': 'DFDFDF', 'profile_sidebar_fill_color': 'F3F3F3', 'profile_text_color': '333333', 'profile_use_background_image': True, 'has_extended_profile': False, 'default_profile': False, 'default_profile_image': False, 'following': False, 'follow_request_sent': False, 'notifications': False, 'translator_type': 'none', 'withheld_in_countries': []}, id=242339104, id_str='242339104', name='Loudoun Health Dept', screen_name='LoudounCoHealth', location='Loudoun County Virginia', description='The Loudoun County Health Department provides a wide range of health care services and works to ensure the health and well-being of Loudoun County residents.', url='https://t.co/SoskdGNOYE', entities={'url': {'urls': [{'url': 'https://t.co/SoskdGNOYE', 'expanded_url': 'https://linktr.ee/loudouncountyhealthdepartment', 'display_url': 'linktr.ee/loudouncountyh…', 'indices': [0, 23]}]}, 'description': {'urls': []}}, protected=False, followers_count=553, friends_count=98, listed_count=24, created_at=datetime.datetime(2011, 1, 24, 15, 11, 40, tzinfo=datetime.timezone.utc), favourites_count=137, utc_offset=None, time_zone=None, geo_enabled=True, verified=True, statuses_count=750, lang=None, contributors_enabled=False, is_translator=False, is_translation_enabled=False, profile_background_color='EBEBEB', profile_background_image_url='http://abs.twimg.com/images/themes/theme7/bg.gif', profile_background_image_url_https='https://abs.twimg.com/images/themes/theme7/bg.gif', profile_background_tile=False, profile_image_url='http://pbs.twimg.com/profile_images/1362115921/LCHD_Logo_-_No_Words_normal.jpg', profile_image_url_https='https://pbs.twimg.com/profile_images/1362115921/LCHD_Logo_-_No_Words_normal.jpg', profile_link_color='990000', profile_sidebar_border_color='DFDFDF', profile_sidebar_fill_color='F3F3F3', profile_text_color='333333', profile_use_background_image=True, has_extended_profile=False, default_profile=False, default_profile_image=False, following=False, follow_request_sent=False, notifications=False, translator_type='none', withheld_in_countries=[]), geo=None, coordinates=None, place=None, contributors=None, is_quote_status=False, retweet_count=1, favorite_count=2, favorited=False, retweeted=False, possibly_sensitive=False, lang='en')\n",
      "2\n",
      "Status(_api=<tweepy.api.API object at 0x0000019C964FF490>, _json={'created_at': 'Mon Nov 07 13:37:16 +0000 2022', 'id': 1589612952503844864, 'id_str': '1589612952503844864', 'text': '@colossusPhD Well ivermectin worked for covid if you got it in time. It would have cost .2cents per dose to treat.… https://t.co/1A8Eh3UU6S', 'truncated': True, 'entities': {'hashtags': [], 'symbols': [], 'user_mentions': [{'screen_name': 'colossusPhD', 'name': 'Krampi-Grifter 🎄', 'id': 843897064627101696, 'id_str': '843897064627101696', 'indices': [0, 12]}], 'urls': [{'url': 'https://t.co/1A8Eh3UU6S', 'expanded_url': 'https://twitter.com/i/web/status/1589612952503844864', 'display_url': 'twitter.com/i/web/status/1…', 'indices': [116, 139]}]}, 'metadata': {'iso_language_code': 'en', 'result_type': 'recent'}, 'source': '<a href=\"http://twitter.com/download/android\" rel=\"nofollow\">Twitter for Android</a>', 'in_reply_to_status_id': 1589607798945435648, 'in_reply_to_status_id_str': '1589607798945435648', 'in_reply_to_user_id': 843897064627101696, 'in_reply_to_user_id_str': '843897064627101696', 'in_reply_to_screen_name': 'colossusPhD', 'user': {'id': 1574396637346406400, 'id_str': '1574396637346406400', 'name': 'MJ P', 'screen_name': 'cruptgovt', 'location': 'Canada', 'description': 'God spelled backwards is Dog.\\nSmall Fringe Minority with unacceptable views. ✊🇨🇦', 'url': None, 'entities': {'description': {'urls': []}}, 'protected': False, 'followers_count': 94, 'friends_count': 346, 'listed_count': 2, 'created_at': 'Mon Sep 26 13:53:27 +0000 2022', 'favourites_count': 2742, 'utc_offset': None, 'time_zone': None, 'geo_enabled': False, 'verified': False, 'statuses_count': 3584, 'lang': None, 'contributors_enabled': False, 'is_translator': False, 'is_translation_enabled': False, 'profile_background_color': 'F5F8FA', 'profile_background_image_url': None, 'profile_background_image_url_https': None, 'profile_background_tile': False, 'profile_image_url': 'http://pbs.twimg.com/profile_images/1574463823276560384/fHTk56gQ_normal.jpg', 'profile_image_url_https': 'https://pbs.twimg.com/profile_images/1574463823276560384/fHTk56gQ_normal.jpg', 'profile_banner_url': 'https://pbs.twimg.com/profile_banners/1574396637346406400/1666406289', 'profile_link_color': '1DA1F2', 'profile_sidebar_border_color': 'C0DEED', 'profile_sidebar_fill_color': 'DDEEF6', 'profile_text_color': '333333', 'profile_use_background_image': True, 'has_extended_profile': True, 'default_profile': True, 'default_profile_image': False, 'following': False, 'follow_request_sent': False, 'notifications': False, 'translator_type': 'none', 'withheld_in_countries': []}, 'geo': None, 'coordinates': None, 'place': None, 'contributors': None, 'is_quote_status': False, 'retweet_count': 1, 'favorite_count': 6, 'favorited': False, 'retweeted': False, 'lang': 'en'}, created_at=datetime.datetime(2022, 11, 7, 13, 37, 16, tzinfo=datetime.timezone.utc), id=1589612952503844864, id_str='1589612952503844864', text='@colossusPhD Well ivermectin worked for covid if you got it in time. It would have cost .2cents per dose to treat.… https://t.co/1A8Eh3UU6S', truncated=True, entities={'hashtags': [], 'symbols': [], 'user_mentions': [{'screen_name': 'colossusPhD', 'name': 'Krampi-Grifter 🎄', 'id': 843897064627101696, 'id_str': '843897064627101696', 'indices': [0, 12]}], 'urls': [{'url': 'https://t.co/1A8Eh3UU6S', 'expanded_url': 'https://twitter.com/i/web/status/1589612952503844864', 'display_url': 'twitter.com/i/web/status/1…', 'indices': [116, 139]}]}, metadata={'iso_language_code': 'en', 'result_type': 'recent'}, source='Twitter for Android', source_url='http://twitter.com/download/android', in_reply_to_status_id=1589607798945435648, in_reply_to_status_id_str='1589607798945435648', in_reply_to_user_id=843897064627101696, in_reply_to_user_id_str='843897064627101696', in_reply_to_screen_name='colossusPhD', author=User(_api=<tweepy.api.API object at 0x0000019C964FF490>, _json={'id': 1574396637346406400, 'id_str': '1574396637346406400', 'name': 'MJ P', 'screen_name': 'cruptgovt', 'location': 'Canada', 'description': 'God spelled backwards is Dog.\\nSmall Fringe Minority with unacceptable views. ✊🇨🇦', 'url': None, 'entities': {'description': {'urls': []}}, 'protected': False, 'followers_count': 94, 'friends_count': 346, 'listed_count': 2, 'created_at': 'Mon Sep 26 13:53:27 +0000 2022', 'favourites_count': 2742, 'utc_offset': None, 'time_zone': None, 'geo_enabled': False, 'verified': False, 'statuses_count': 3584, 'lang': None, 'contributors_enabled': False, 'is_translator': False, 'is_translation_enabled': False, 'profile_background_color': 'F5F8FA', 'profile_background_image_url': None, 'profile_background_image_url_https': None, 'profile_background_tile': False, 'profile_image_url': 'http://pbs.twimg.com/profile_images/1574463823276560384/fHTk56gQ_normal.jpg', 'profile_image_url_https': 'https://pbs.twimg.com/profile_images/1574463823276560384/fHTk56gQ_normal.jpg', 'profile_banner_url': 'https://pbs.twimg.com/profile_banners/1574396637346406400/1666406289', 'profile_link_color': '1DA1F2', 'profile_sidebar_border_color': 'C0DEED', 'profile_sidebar_fill_color': 'DDEEF6', 'profile_text_color': '333333', 'profile_use_background_image': True, 'has_extended_profile': True, 'default_profile': True, 'default_profile_image': False, 'following': False, 'follow_request_sent': False, 'notifications': False, 'translator_type': 'none', 'withheld_in_countries': []}, id=1574396637346406400, id_str='1574396637346406400', name='MJ P', screen_name='cruptgovt', location='Canada', description='God spelled backwards is Dog.\\nSmall Fringe Minority with unacceptable views. ✊🇨🇦', url=None, entities={'description': {'urls': []}}, protected=False, followers_count=94, friends_count=346, listed_count=2, created_at=datetime.datetime(2022, 9, 26, 13, 53, 27, tzinfo=datetime.timezone.utc), favourites_count=2742, utc_offset=None, time_zone=None, geo_enabled=False, verified=False, statuses_count=3584, lang=None, contributors_enabled=False, is_translator=False, is_translation_enabled=False, profile_background_color='F5F8FA', profile_background_image_url=None, profile_background_image_url_https=None, profile_background_tile=False, profile_image_url='http://pbs.twimg.com/profile_images/1574463823276560384/fHTk56gQ_normal.jpg', profile_image_url_https='https://pbs.twimg.com/profile_images/1574463823276560384/fHTk56gQ_normal.jpg', profile_banner_url='https://pbs.twimg.com/profile_banners/1574396637346406400/1666406289', profile_link_color='1DA1F2', profile_sidebar_border_color='C0DEED', profile_sidebar_fill_color='DDEEF6', profile_text_color='333333', profile_use_background_image=True, has_extended_profile=True, default_profile=True, default_profile_image=False, following=False, follow_request_sent=False, notifications=False, translator_type='none', withheld_in_countries=[]), user=User(_api=<tweepy.api.API object at 0x0000019C964FF490>, _json={'id': 1574396637346406400, 'id_str': '1574396637346406400', 'name': 'MJ P', 'screen_name': 'cruptgovt', 'location': 'Canada', 'description': 'God spelled backwards is Dog.\\nSmall Fringe Minority with unacceptable views. ✊🇨🇦', 'url': None, 'entities': {'description': {'urls': []}}, 'protected': False, 'followers_count': 94, 'friends_count': 346, 'listed_count': 2, 'created_at': 'Mon Sep 26 13:53:27 +0000 2022', 'favourites_count': 2742, 'utc_offset': None, 'time_zone': None, 'geo_enabled': False, 'verified': False, 'statuses_count': 3584, 'lang': None, 'contributors_enabled': False, 'is_translator': False, 'is_translation_enabled': False, 'profile_background_color': 'F5F8FA', 'profile_background_image_url': None, 'profile_background_image_url_https': None, 'profile_background_tile': False, 'profile_image_url': 'http://pbs.twimg.com/profile_images/1574463823276560384/fHTk56gQ_normal.jpg', 'profile_image_url_https': 'https://pbs.twimg.com/profile_images/1574463823276560384/fHTk56gQ_normal.jpg', 'profile_banner_url': 'https://pbs.twimg.com/profile_banners/1574396637346406400/1666406289', 'profile_link_color': '1DA1F2', 'profile_sidebar_border_color': 'C0DEED', 'profile_sidebar_fill_color': 'DDEEF6', 'profile_text_color': '333333', 'profile_use_background_image': True, 'has_extended_profile': True, 'default_profile': True, 'default_profile_image': False, 'following': False, 'follow_request_sent': False, 'notifications': False, 'translator_type': 'none', 'withheld_in_countries': []}, id=1574396637346406400, id_str='1574396637346406400', name='MJ P', screen_name='cruptgovt', location='Canada', description='God spelled backwards is Dog.\\nSmall Fringe Minority with unacceptable views. ✊🇨🇦', url=None, entities={'description': {'urls': []}}, protected=False, followers_count=94, friends_count=346, listed_count=2, created_at=datetime.datetime(2022, 9, 26, 13, 53, 27, tzinfo=datetime.timezone.utc), favourites_count=2742, utc_offset=None, time_zone=None, geo_enabled=False, verified=False, statuses_count=3584, lang=None, contributors_enabled=False, is_translator=False, is_translation_enabled=False, profile_background_color='F5F8FA', profile_background_image_url=None, profile_background_image_url_https=None, profile_background_tile=False, profile_image_url='http://pbs.twimg.com/profile_images/1574463823276560384/fHTk56gQ_normal.jpg', profile_image_url_https='https://pbs.twimg.com/profile_images/1574463823276560384/fHTk56gQ_normal.jpg', profile_banner_url='https://pbs.twimg.com/profile_banners/1574396637346406400/1666406289', profile_link_color='1DA1F2', profile_sidebar_border_color='C0DEED', profile_sidebar_fill_color='DDEEF6', profile_text_color='333333', profile_use_background_image=True, has_extended_profile=True, default_profile=True, default_profile_image=False, following=False, follow_request_sent=False, notifications=False, translator_type='none', withheld_in_countries=[]), geo=None, coordinates=None, place=None, contributors=None, is_quote_status=False, retweet_count=1, favorite_count=6, favorited=False, retweeted=False, lang='en')\n",
      "3\n",
      "Status(_api=<tweepy.api.API object at 0x0000019C964FF490>, _json={'created_at': 'Mon Nov 07 08:00:41 +0000 2022', 'id': 1589528251197702144, 'id_str': '1589528251197702144', 'text': 'Today we are holding a #COVID Autumn Booster Clinic in the Corn Exchange in #Calne \\n\\n11:00 - 17:00 \\n\\nNo appointment… https://t.co/3b7QXkpUQG', 'truncated': True, 'entities': {'hashtags': [{'text': 'COVID', 'indices': [23, 29]}, {'text': 'Calne', 'indices': [76, 82]}], 'symbols': [], 'user_mentions': [], 'urls': [{'url': 'https://t.co/3b7QXkpUQG', 'expanded_url': 'https://twitter.com/i/web/status/1589528251197702144', 'display_url': 'twitter.com/i/web/status/1…', 'indices': [117, 140]}]}, 'metadata': {'iso_language_code': 'en', 'result_type': 'recent'}, 'source': '<a href=\"https://orlo.tech\" rel=\"nofollow\">Orlo</a>', 'in_reply_to_status_id': None, 'in_reply_to_status_id_str': None, 'in_reply_to_user_id': None, 'in_reply_to_user_id_str': None, 'in_reply_to_screen_name': None, 'user': {'id': 928928841359417344, 'id_str': '928928841359417344', 'name': 'Public Health Wiltshire', 'screen_name': 'PHWiltshire', 'location': 'Wiltshire', 'description': 'The Official Wiltshire Council Public Health Team Twitter Feed for all residents and businesses in Wiltshire #Wiltshire', 'url': 'https://t.co/3Ip7z8LH2N', 'entities': {'url': {'urls': [{'url': 'https://t.co/3Ip7z8LH2N', 'expanded_url': 'http://www.wiltshire.gov.uk/public-health', 'display_url': 'wiltshire.gov.uk/public-health', 'indices': [0, 23]}]}, 'description': {'urls': []}}, 'protected': False, 'followers_count': 1583, 'friends_count': 1057, 'listed_count': 9, 'created_at': 'Fri Nov 10 10:14:29 +0000 2017', 'favourites_count': 5347, 'utc_offset': None, 'time_zone': None, 'geo_enabled': True, 'verified': False, 'statuses_count': 3722, 'lang': None, 'contributors_enabled': False, 'is_translator': False, 'is_translation_enabled': False, 'profile_background_color': 'F5F8FA', 'profile_background_image_url': None, 'profile_background_image_url_https': None, 'profile_background_tile': False, 'profile_image_url': 'http://pbs.twimg.com/profile_images/1572242057892093954/LqsAOZgY_normal.png', 'profile_image_url_https': 'https://pbs.twimg.com/profile_images/1572242057892093954/LqsAOZgY_normal.png', 'profile_banner_url': 'https://pbs.twimg.com/profile_banners/928928841359417344/1667471571', 'profile_link_color': '1DA1F2', 'profile_sidebar_border_color': 'C0DEED', 'profile_sidebar_fill_color': 'DDEEF6', 'profile_text_color': '333333', 'profile_use_background_image': True, 'has_extended_profile': False, 'default_profile': True, 'default_profile_image': False, 'following': False, 'follow_request_sent': False, 'notifications': False, 'translator_type': 'none', 'withheld_in_countries': []}, 'geo': None, 'coordinates': None, 'place': None, 'contributors': None, 'is_quote_status': False, 'retweet_count': 1, 'favorite_count': 2, 'favorited': False, 'retweeted': False, 'possibly_sensitive': False, 'lang': 'en'}, created_at=datetime.datetime(2022, 11, 7, 8, 0, 41, tzinfo=datetime.timezone.utc), id=1589528251197702144, id_str='1589528251197702144', text='Today we are holding a #COVID Autumn Booster Clinic in the Corn Exchange in #Calne \\n\\n11:00 - 17:00 \\n\\nNo appointment… https://t.co/3b7QXkpUQG', truncated=True, entities={'hashtags': [{'text': 'COVID', 'indices': [23, 29]}, {'text': 'Calne', 'indices': [76, 82]}], 'symbols': [], 'user_mentions': [], 'urls': [{'url': 'https://t.co/3b7QXkpUQG', 'expanded_url': 'https://twitter.com/i/web/status/1589528251197702144', 'display_url': 'twitter.com/i/web/status/1…', 'indices': [117, 140]}]}, metadata={'iso_language_code': 'en', 'result_type': 'recent'}, source='Orlo', source_url='https://orlo.tech', in_reply_to_status_id=None, in_reply_to_status_id_str=None, in_reply_to_user_id=None, in_reply_to_user_id_str=None, in_reply_to_screen_name=None, author=User(_api=<tweepy.api.API object at 0x0000019C964FF490>, _json={'id': 928928841359417344, 'id_str': '928928841359417344', 'name': 'Public Health Wiltshire', 'screen_name': 'PHWiltshire', 'location': 'Wiltshire', 'description': 'The Official Wiltshire Council Public Health Team Twitter Feed for all residents and businesses in Wiltshire #Wiltshire', 'url': 'https://t.co/3Ip7z8LH2N', 'entities': {'url': {'urls': [{'url': 'https://t.co/3Ip7z8LH2N', 'expanded_url': 'http://www.wiltshire.gov.uk/public-health', 'display_url': 'wiltshire.gov.uk/public-health', 'indices': [0, 23]}]}, 'description': {'urls': []}}, 'protected': False, 'followers_count': 1583, 'friends_count': 1057, 'listed_count': 9, 'created_at': 'Fri Nov 10 10:14:29 +0000 2017', 'favourites_count': 5347, 'utc_offset': None, 'time_zone': None, 'geo_enabled': True, 'verified': False, 'statuses_count': 3722, 'lang': None, 'contributors_enabled': False, 'is_translator': False, 'is_translation_enabled': False, 'profile_background_color': 'F5F8FA', 'profile_background_image_url': None, 'profile_background_image_url_https': None, 'profile_background_tile': False, 'profile_image_url': 'http://pbs.twimg.com/profile_images/1572242057892093954/LqsAOZgY_normal.png', 'profile_image_url_https': 'https://pbs.twimg.com/profile_images/1572242057892093954/LqsAOZgY_normal.png', 'profile_banner_url': 'https://pbs.twimg.com/profile_banners/928928841359417344/1667471571', 'profile_link_color': '1DA1F2', 'profile_sidebar_border_color': 'C0DEED', 'profile_sidebar_fill_color': 'DDEEF6', 'profile_text_color': '333333', 'profile_use_background_image': True, 'has_extended_profile': False, 'default_profile': True, 'default_profile_image': False, 'following': False, 'follow_request_sent': False, 'notifications': False, 'translator_type': 'none', 'withheld_in_countries': []}, id=928928841359417344, id_str='928928841359417344', name='Public Health Wiltshire', screen_name='PHWiltshire', location='Wiltshire', description='The Official Wiltshire Council Public Health Team Twitter Feed for all residents and businesses in Wiltshire #Wiltshire', url='https://t.co/3Ip7z8LH2N', entities={'url': {'urls': [{'url': 'https://t.co/3Ip7z8LH2N', 'expanded_url': 'http://www.wiltshire.gov.uk/public-health', 'display_url': 'wiltshire.gov.uk/public-health', 'indices': [0, 23]}]}, 'description': {'urls': []}}, protected=False, followers_count=1583, friends_count=1057, listed_count=9, created_at=datetime.datetime(2017, 11, 10, 10, 14, 29, tzinfo=datetime.timezone.utc), favourites_count=5347, utc_offset=None, time_zone=None, geo_enabled=True, verified=False, statuses_count=3722, lang=None, contributors_enabled=False, is_translator=False, is_translation_enabled=False, profile_background_color='F5F8FA', profile_background_image_url=None, profile_background_image_url_https=None, profile_background_tile=False, profile_image_url='http://pbs.twimg.com/profile_images/1572242057892093954/LqsAOZgY_normal.png', profile_image_url_https='https://pbs.twimg.com/profile_images/1572242057892093954/LqsAOZgY_normal.png', profile_banner_url='https://pbs.twimg.com/profile_banners/928928841359417344/1667471571', profile_link_color='1DA1F2', profile_sidebar_border_color='C0DEED', profile_sidebar_fill_color='DDEEF6', profile_text_color='333333', profile_use_background_image=True, has_extended_profile=False, default_profile=True, default_profile_image=False, following=False, follow_request_sent=False, notifications=False, translator_type='none', withheld_in_countries=[]), user=User(_api=<tweepy.api.API object at 0x0000019C964FF490>, _json={'id': 928928841359417344, 'id_str': '928928841359417344', 'name': 'Public Health Wiltshire', 'screen_name': 'PHWiltshire', 'location': 'Wiltshire', 'description': 'The Official Wiltshire Council Public Health Team Twitter Feed for all residents and businesses in Wiltshire #Wiltshire', 'url': 'https://t.co/3Ip7z8LH2N', 'entities': {'url': {'urls': [{'url': 'https://t.co/3Ip7z8LH2N', 'expanded_url': 'http://www.wiltshire.gov.uk/public-health', 'display_url': 'wiltshire.gov.uk/public-health', 'indices': [0, 23]}]}, 'description': {'urls': []}}, 'protected': False, 'followers_count': 1583, 'friends_count': 1057, 'listed_count': 9, 'created_at': 'Fri Nov 10 10:14:29 +0000 2017', 'favourites_count': 5347, 'utc_offset': None, 'time_zone': None, 'geo_enabled': True, 'verified': False, 'statuses_count': 3722, 'lang': None, 'contributors_enabled': False, 'is_translator': False, 'is_translation_enabled': False, 'profile_background_color': 'F5F8FA', 'profile_background_image_url': None, 'profile_background_image_url_https': None, 'profile_background_tile': False, 'profile_image_url': 'http://pbs.twimg.com/profile_images/1572242057892093954/LqsAOZgY_normal.png', 'profile_image_url_https': 'https://pbs.twimg.com/profile_images/1572242057892093954/LqsAOZgY_normal.png', 'profile_banner_url': 'https://pbs.twimg.com/profile_banners/928928841359417344/1667471571', 'profile_link_color': '1DA1F2', 'profile_sidebar_border_color': 'C0DEED', 'profile_sidebar_fill_color': 'DDEEF6', 'profile_text_color': '333333', 'profile_use_background_image': True, 'has_extended_profile': False, 'default_profile': True, 'default_profile_image': False, 'following': False, 'follow_request_sent': False, 'notifications': False, 'translator_type': 'none', 'withheld_in_countries': []}, id=928928841359417344, id_str='928928841359417344', name='Public Health Wiltshire', screen_name='PHWiltshire', location='Wiltshire', description='The Official Wiltshire Council Public Health Team Twitter Feed for all residents and businesses in Wiltshire #Wiltshire', url='https://t.co/3Ip7z8LH2N', entities={'url': {'urls': [{'url': 'https://t.co/3Ip7z8LH2N', 'expanded_url': 'http://www.wiltshire.gov.uk/public-health', 'display_url': 'wiltshire.gov.uk/public-health', 'indices': [0, 23]}]}, 'description': {'urls': []}}, protected=False, followers_count=1583, friends_count=1057, listed_count=9, created_at=datetime.datetime(2017, 11, 10, 10, 14, 29, tzinfo=datetime.timezone.utc), favourites_count=5347, utc_offset=None, time_zone=None, geo_enabled=True, verified=False, statuses_count=3722, lang=None, contributors_enabled=False, is_translator=False, is_translation_enabled=False, profile_background_color='F5F8FA', profile_background_image_url=None, profile_background_image_url_https=None, profile_background_tile=False, profile_image_url='http://pbs.twimg.com/profile_images/1572242057892093954/LqsAOZgY_normal.png', profile_image_url_https='https://pbs.twimg.com/profile_images/1572242057892093954/LqsAOZgY_normal.png', profile_banner_url='https://pbs.twimg.com/profile_banners/928928841359417344/1667471571', profile_link_color='1DA1F2', profile_sidebar_border_color='C0DEED', profile_sidebar_fill_color='DDEEF6', profile_text_color='333333', profile_use_background_image=True, has_extended_profile=False, default_profile=True, default_profile_image=False, following=False, follow_request_sent=False, notifications=False, translator_type='none', withheld_in_countries=[]), geo=None, coordinates=None, place=None, contributors=None, is_quote_status=False, retweet_count=1, favorite_count=2, favorited=False, retweeted=False, possibly_sensitive=False, lang='en')\n",
      "4\n",
      "Status(_api=<tweepy.api.API object at 0x0000019C964FF490>, _json={'created_at': 'Sun Nov 06 21:48:00 +0000 2022', 'id': 1589374062559731714, 'id_str': '1589374062559731714', 'text': 'Come get your FREE updated (bivalent) COVID-19 booster @ Cascades Library on Monday, November 14 from 3:00-5:00 PM.… https://t.co/hsZqCz5sNV', 'truncated': True, 'entities': {'hashtags': [], 'symbols': [], 'user_mentions': [], 'urls': [{'url': 'https://t.co/hsZqCz5sNV', 'expanded_url': 'https://twitter.com/i/web/status/1589374062559731714', 'display_url': 'twitter.com/i/web/status/1…', 'indices': [117, 140]}]}, 'metadata': {'iso_language_code': 'en', 'result_type': 'recent'}, 'source': '<a href=\"https://mobile.twitter.com\" rel=\"nofollow\">Twitter Web App</a>', 'in_reply_to_status_id': None, 'in_reply_to_status_id_str': None, 'in_reply_to_user_id': None, 'in_reply_to_user_id_str': None, 'in_reply_to_screen_name': None, 'user': {'id': 242339104, 'id_str': '242339104', 'name': 'Loudoun Health Dept', 'screen_name': 'LoudounCoHealth', 'location': 'Loudoun County Virginia', 'description': 'The Loudoun County Health Department provides a wide range of health care services and works to ensure the health and well-being of Loudoun County residents.', 'url': 'https://t.co/SoskdGNOYE', 'entities': {'url': {'urls': [{'url': 'https://t.co/SoskdGNOYE', 'expanded_url': 'https://linktr.ee/loudouncountyhealthdepartment', 'display_url': 'linktr.ee/loudouncountyh…', 'indices': [0, 23]}]}, 'description': {'urls': []}}, 'protected': False, 'followers_count': 553, 'friends_count': 98, 'listed_count': 24, 'created_at': 'Mon Jan 24 15:11:40 +0000 2011', 'favourites_count': 137, 'utc_offset': None, 'time_zone': None, 'geo_enabled': True, 'verified': True, 'statuses_count': 750, 'lang': None, 'contributors_enabled': False, 'is_translator': False, 'is_translation_enabled': False, 'profile_background_color': 'EBEBEB', 'profile_background_image_url': 'http://abs.twimg.com/images/themes/theme7/bg.gif', 'profile_background_image_url_https': 'https://abs.twimg.com/images/themes/theme7/bg.gif', 'profile_background_tile': False, 'profile_image_url': 'http://pbs.twimg.com/profile_images/1362115921/LCHD_Logo_-_No_Words_normal.jpg', 'profile_image_url_https': 'https://pbs.twimg.com/profile_images/1362115921/LCHD_Logo_-_No_Words_normal.jpg', 'profile_link_color': '990000', 'profile_sidebar_border_color': 'DFDFDF', 'profile_sidebar_fill_color': 'F3F3F3', 'profile_text_color': '333333', 'profile_use_background_image': True, 'has_extended_profile': False, 'default_profile': False, 'default_profile_image': False, 'following': False, 'follow_request_sent': False, 'notifications': False, 'translator_type': 'none', 'withheld_in_countries': []}, 'geo': None, 'coordinates': None, 'place': None, 'contributors': None, 'is_quote_status': False, 'retweet_count': 0, 'favorite_count': 2, 'favorited': False, 'retweeted': False, 'possibly_sensitive': False, 'lang': 'en'}, created_at=datetime.datetime(2022, 11, 6, 21, 48, tzinfo=datetime.timezone.utc), id=1589374062559731714, id_str='1589374062559731714', text='Come get your FREE updated (bivalent) COVID-19 booster @ Cascades Library on Monday, November 14 from 3:00-5:00 PM.… https://t.co/hsZqCz5sNV', truncated=True, entities={'hashtags': [], 'symbols': [], 'user_mentions': [], 'urls': [{'url': 'https://t.co/hsZqCz5sNV', 'expanded_url': 'https://twitter.com/i/web/status/1589374062559731714', 'display_url': 'twitter.com/i/web/status/1…', 'indices': [117, 140]}]}, metadata={'iso_language_code': 'en', 'result_type': 'recent'}, source='Twitter Web App', source_url='https://mobile.twitter.com', in_reply_to_status_id=None, in_reply_to_status_id_str=None, in_reply_to_user_id=None, in_reply_to_user_id_str=None, in_reply_to_screen_name=None, author=User(_api=<tweepy.api.API object at 0x0000019C964FF490>, _json={'id': 242339104, 'id_str': '242339104', 'name': 'Loudoun Health Dept', 'screen_name': 'LoudounCoHealth', 'location': 'Loudoun County Virginia', 'description': 'The Loudoun County Health Department provides a wide range of health care services and works to ensure the health and well-being of Loudoun County residents.', 'url': 'https://t.co/SoskdGNOYE', 'entities': {'url': {'urls': [{'url': 'https://t.co/SoskdGNOYE', 'expanded_url': 'https://linktr.ee/loudouncountyhealthdepartment', 'display_url': 'linktr.ee/loudouncountyh…', 'indices': [0, 23]}]}, 'description': {'urls': []}}, 'protected': False, 'followers_count': 553, 'friends_count': 98, 'listed_count': 24, 'created_at': 'Mon Jan 24 15:11:40 +0000 2011', 'favourites_count': 137, 'utc_offset': None, 'time_zone': None, 'geo_enabled': True, 'verified': True, 'statuses_count': 750, 'lang': None, 'contributors_enabled': False, 'is_translator': False, 'is_translation_enabled': False, 'profile_background_color': 'EBEBEB', 'profile_background_image_url': 'http://abs.twimg.com/images/themes/theme7/bg.gif', 'profile_background_image_url_https': 'https://abs.twimg.com/images/themes/theme7/bg.gif', 'profile_background_tile': False, 'profile_image_url': 'http://pbs.twimg.com/profile_images/1362115921/LCHD_Logo_-_No_Words_normal.jpg', 'profile_image_url_https': 'https://pbs.twimg.com/profile_images/1362115921/LCHD_Logo_-_No_Words_normal.jpg', 'profile_link_color': '990000', 'profile_sidebar_border_color': 'DFDFDF', 'profile_sidebar_fill_color': 'F3F3F3', 'profile_text_color': '333333', 'profile_use_background_image': True, 'has_extended_profile': False, 'default_profile': False, 'default_profile_image': False, 'following': False, 'follow_request_sent': False, 'notifications': False, 'translator_type': 'none', 'withheld_in_countries': []}, id=242339104, id_str='242339104', name='Loudoun Health Dept', screen_name='LoudounCoHealth', location='Loudoun County Virginia', description='The Loudoun County Health Department provides a wide range of health care services and works to ensure the health and well-being of Loudoun County residents.', url='https://t.co/SoskdGNOYE', entities={'url': {'urls': [{'url': 'https://t.co/SoskdGNOYE', 'expanded_url': 'https://linktr.ee/loudouncountyhealthdepartment', 'display_url': 'linktr.ee/loudouncountyh…', 'indices': [0, 23]}]}, 'description': {'urls': []}}, protected=False, followers_count=553, friends_count=98, listed_count=24, created_at=datetime.datetime(2011, 1, 24, 15, 11, 40, tzinfo=datetime.timezone.utc), favourites_count=137, utc_offset=None, time_zone=None, geo_enabled=True, verified=True, statuses_count=750, lang=None, contributors_enabled=False, is_translator=False, is_translation_enabled=False, profile_background_color='EBEBEB', profile_background_image_url='http://abs.twimg.com/images/themes/theme7/bg.gif', profile_background_image_url_https='https://abs.twimg.com/images/themes/theme7/bg.gif', profile_background_tile=False, profile_image_url='http://pbs.twimg.com/profile_images/1362115921/LCHD_Logo_-_No_Words_normal.jpg', profile_image_url_https='https://pbs.twimg.com/profile_images/1362115921/LCHD_Logo_-_No_Words_normal.jpg', profile_link_color='990000', profile_sidebar_border_color='DFDFDF', profile_sidebar_fill_color='F3F3F3', profile_text_color='333333', profile_use_background_image=True, has_extended_profile=False, default_profile=False, default_profile_image=False, following=False, follow_request_sent=False, notifications=False, translator_type='none', withheld_in_countries=[]), user=User(_api=<tweepy.api.API object at 0x0000019C964FF490>, _json={'id': 242339104, 'id_str': '242339104', 'name': 'Loudoun Health Dept', 'screen_name': 'LoudounCoHealth', 'location': 'Loudoun County Virginia', 'description': 'The Loudoun County Health Department provides a wide range of health care services and works to ensure the health and well-being of Loudoun County residents.', 'url': 'https://t.co/SoskdGNOYE', 'entities': {'url': {'urls': [{'url': 'https://t.co/SoskdGNOYE', 'expanded_url': 'https://linktr.ee/loudouncountyhealthdepartment', 'display_url': 'linktr.ee/loudouncountyh…', 'indices': [0, 23]}]}, 'description': {'urls': []}}, 'protected': False, 'followers_count': 553, 'friends_count': 98, 'listed_count': 24, 'created_at': 'Mon Jan 24 15:11:40 +0000 2011', 'favourites_count': 137, 'utc_offset': None, 'time_zone': None, 'geo_enabled': True, 'verified': True, 'statuses_count': 750, 'lang': None, 'contributors_enabled': False, 'is_translator': False, 'is_translation_enabled': False, 'profile_background_color': 'EBEBEB', 'profile_background_image_url': 'http://abs.twimg.com/images/themes/theme7/bg.gif', 'profile_background_image_url_https': 'https://abs.twimg.com/images/themes/theme7/bg.gif', 'profile_background_tile': False, 'profile_image_url': 'http://pbs.twimg.com/profile_images/1362115921/LCHD_Logo_-_No_Words_normal.jpg', 'profile_image_url_https': 'https://pbs.twimg.com/profile_images/1362115921/LCHD_Logo_-_No_Words_normal.jpg', 'profile_link_color': '990000', 'profile_sidebar_border_color': 'DFDFDF', 'profile_sidebar_fill_color': 'F3F3F3', 'profile_text_color': '333333', 'profile_use_background_image': True, 'has_extended_profile': False, 'default_profile': False, 'default_profile_image': False, 'following': False, 'follow_request_sent': False, 'notifications': False, 'translator_type': 'none', 'withheld_in_countries': []}, id=242339104, id_str='242339104', name='Loudoun Health Dept', screen_name='LoudounCoHealth', location='Loudoun County Virginia', description='The Loudoun County Health Department provides a wide range of health care services and works to ensure the health and well-being of Loudoun County residents.', url='https://t.co/SoskdGNOYE', entities={'url': {'urls': [{'url': 'https://t.co/SoskdGNOYE', 'expanded_url': 'https://linktr.ee/loudouncountyhealthdepartment', 'display_url': 'linktr.ee/loudouncountyh…', 'indices': [0, 23]}]}, 'description': {'urls': []}}, protected=False, followers_count=553, friends_count=98, listed_count=24, created_at=datetime.datetime(2011, 1, 24, 15, 11, 40, tzinfo=datetime.timezone.utc), favourites_count=137, utc_offset=None, time_zone=None, geo_enabled=True, verified=True, statuses_count=750, lang=None, contributors_enabled=False, is_translator=False, is_translation_enabled=False, profile_background_color='EBEBEB', profile_background_image_url='http://abs.twimg.com/images/themes/theme7/bg.gif', profile_background_image_url_https='https://abs.twimg.com/images/themes/theme7/bg.gif', profile_background_tile=False, profile_image_url='http://pbs.twimg.com/profile_images/1362115921/LCHD_Logo_-_No_Words_normal.jpg', profile_image_url_https='https://pbs.twimg.com/profile_images/1362115921/LCHD_Logo_-_No_Words_normal.jpg', profile_link_color='990000', profile_sidebar_border_color='DFDFDF', profile_sidebar_fill_color='F3F3F3', profile_text_color='333333', profile_use_background_image=True, has_extended_profile=False, default_profile=False, default_profile_image=False, following=False, follow_request_sent=False, notifications=False, translator_type='none', withheld_in_countries=[]), geo=None, coordinates=None, place=None, contributors=None, is_quote_status=False, retweet_count=0, favorite_count=2, favorited=False, retweeted=False, possibly_sensitive=False, lang='en')\n",
      "5\n",
      "Status(_api=<tweepy.api.API object at 0x0000019C964FF490>, _json={'created_at': 'Sat Nov 05 18:09:09 +0000 2022', 'id': 1588956598193512448, 'id_str': '1588956598193512448', 'text': 'Myopericarditis After COVID-19 Booster Dose Vaccination 9/100,00 &amp; 14/100,00 in men  https://t.co/omCrsi8GDV', 'truncated': False, 'entities': {'hashtags': [], 'symbols': [], 'user_mentions': [], 'urls': [{'url': 'https://t.co/omCrsi8GDV', 'expanded_url': 'https://www.ncbi.nlm.nih.gov/pmc/articles/PMC8957365/', 'display_url': 'ncbi.nlm.nih.gov/pmc/articles/P…', 'indices': [89, 112]}]}, 'metadata': {'iso_language_code': 'en', 'result_type': 'recent'}, 'source': '<a href=\"http://twitter.com/download/iphone\" rel=\"nofollow\">Twitter for iPhone</a>', 'in_reply_to_status_id': None, 'in_reply_to_status_id_str': None, 'in_reply_to_user_id': None, 'in_reply_to_user_id_str': None, 'in_reply_to_screen_name': None, 'user': {'id': 974963243155443713, 'id_str': '974963243155443713', 'name': 'Pond Road Painter', 'screen_name': 'PondRoadPainter', 'location': 'New Jersey, USA', 'description': 'Oil painter (Mets, Jets, Rangers)', 'url': None, 'entities': {'description': {'urls': []}}, 'protected': False, 'followers_count': 211, 'friends_count': 986, 'listed_count': 4, 'created_at': 'Sat Mar 17 10:58:45 +0000 2018', 'favourites_count': 23831, 'utc_offset': None, 'time_zone': None, 'geo_enabled': False, 'verified': False, 'statuses_count': 4348, 'lang': None, 'contributors_enabled': False, 'is_translator': False, 'is_translation_enabled': False, 'profile_background_color': 'F5F8FA', 'profile_background_image_url': None, 'profile_background_image_url_https': None, 'profile_background_tile': False, 'profile_image_url': 'http://pbs.twimg.com/profile_images/974972573091024896/K7ZXgtaA_normal.jpg', 'profile_image_url_https': 'https://pbs.twimg.com/profile_images/974972573091024896/K7ZXgtaA_normal.jpg', 'profile_banner_url': 'https://pbs.twimg.com/profile_banners/974963243155443713/1631912258', 'profile_link_color': '1DA1F2', 'profile_sidebar_border_color': 'C0DEED', 'profile_sidebar_fill_color': 'DDEEF6', 'profile_text_color': '333333', 'profile_use_background_image': True, 'has_extended_profile': False, 'default_profile': True, 'default_profile_image': False, 'following': False, 'follow_request_sent': False, 'notifications': False, 'translator_type': 'none', 'withheld_in_countries': []}, 'geo': None, 'coordinates': None, 'place': None, 'contributors': None, 'is_quote_status': False, 'retweet_count': 0, 'favorite_count': 0, 'favorited': False, 'retweeted': False, 'possibly_sensitive': False, 'lang': 'en'}, created_at=datetime.datetime(2022, 11, 5, 18, 9, 9, tzinfo=datetime.timezone.utc), id=1588956598193512448, id_str='1588956598193512448', text='Myopericarditis After COVID-19 Booster Dose Vaccination 9/100,00 &amp; 14/100,00 in men  https://t.co/omCrsi8GDV', truncated=False, entities={'hashtags': [], 'symbols': [], 'user_mentions': [], 'urls': [{'url': 'https://t.co/omCrsi8GDV', 'expanded_url': 'https://www.ncbi.nlm.nih.gov/pmc/articles/PMC8957365/', 'display_url': 'ncbi.nlm.nih.gov/pmc/articles/P…', 'indices': [89, 112]}]}, metadata={'iso_language_code': 'en', 'result_type': 'recent'}, source='Twitter for iPhone', source_url='http://twitter.com/download/iphone', in_reply_to_status_id=None, in_reply_to_status_id_str=None, in_reply_to_user_id=None, in_reply_to_user_id_str=None, in_reply_to_screen_name=None, author=User(_api=<tweepy.api.API object at 0x0000019C964FF490>, _json={'id': 974963243155443713, 'id_str': '974963243155443713', 'name': 'Pond Road Painter', 'screen_name': 'PondRoadPainter', 'location': 'New Jersey, USA', 'description': 'Oil painter (Mets, Jets, Rangers)', 'url': None, 'entities': {'description': {'urls': []}}, 'protected': False, 'followers_count': 211, 'friends_count': 986, 'listed_count': 4, 'created_at': 'Sat Mar 17 10:58:45 +0000 2018', 'favourites_count': 23831, 'utc_offset': None, 'time_zone': None, 'geo_enabled': False, 'verified': False, 'statuses_count': 4348, 'lang': None, 'contributors_enabled': False, 'is_translator': False, 'is_translation_enabled': False, 'profile_background_color': 'F5F8FA', 'profile_background_image_url': None, 'profile_background_image_url_https': None, 'profile_background_tile': False, 'profile_image_url': 'http://pbs.twimg.com/profile_images/974972573091024896/K7ZXgtaA_normal.jpg', 'profile_image_url_https': 'https://pbs.twimg.com/profile_images/974972573091024896/K7ZXgtaA_normal.jpg', 'profile_banner_url': 'https://pbs.twimg.com/profile_banners/974963243155443713/1631912258', 'profile_link_color': '1DA1F2', 'profile_sidebar_border_color': 'C0DEED', 'profile_sidebar_fill_color': 'DDEEF6', 'profile_text_color': '333333', 'profile_use_background_image': True, 'has_extended_profile': False, 'default_profile': True, 'default_profile_image': False, 'following': False, 'follow_request_sent': False, 'notifications': False, 'translator_type': 'none', 'withheld_in_countries': []}, id=974963243155443713, id_str='974963243155443713', name='Pond Road Painter', screen_name='PondRoadPainter', location='New Jersey, USA', description='Oil painter (Mets, Jets, Rangers)', url=None, entities={'description': {'urls': []}}, protected=False, followers_count=211, friends_count=986, listed_count=4, created_at=datetime.datetime(2018, 3, 17, 10, 58, 45, tzinfo=datetime.timezone.utc), favourites_count=23831, utc_offset=None, time_zone=None, geo_enabled=False, verified=False, statuses_count=4348, lang=None, contributors_enabled=False, is_translator=False, is_translation_enabled=False, profile_background_color='F5F8FA', profile_background_image_url=None, profile_background_image_url_https=None, profile_background_tile=False, profile_image_url='http://pbs.twimg.com/profile_images/974972573091024896/K7ZXgtaA_normal.jpg', profile_image_url_https='https://pbs.twimg.com/profile_images/974972573091024896/K7ZXgtaA_normal.jpg', profile_banner_url='https://pbs.twimg.com/profile_banners/974963243155443713/1631912258', profile_link_color='1DA1F2', profile_sidebar_border_color='C0DEED', profile_sidebar_fill_color='DDEEF6', profile_text_color='333333', profile_use_background_image=True, has_extended_profile=False, default_profile=True, default_profile_image=False, following=False, follow_request_sent=False, notifications=False, translator_type='none', withheld_in_countries=[]), user=User(_api=<tweepy.api.API object at 0x0000019C964FF490>, _json={'id': 974963243155443713, 'id_str': '974963243155443713', 'name': 'Pond Road Painter', 'screen_name': 'PondRoadPainter', 'location': 'New Jersey, USA', 'description': 'Oil painter (Mets, Jets, Rangers)', 'url': None, 'entities': {'description': {'urls': []}}, 'protected': False, 'followers_count': 211, 'friends_count': 986, 'listed_count': 4, 'created_at': 'Sat Mar 17 10:58:45 +0000 2018', 'favourites_count': 23831, 'utc_offset': None, 'time_zone': None, 'geo_enabled': False, 'verified': False, 'statuses_count': 4348, 'lang': None, 'contributors_enabled': False, 'is_translator': False, 'is_translation_enabled': False, 'profile_background_color': 'F5F8FA', 'profile_background_image_url': None, 'profile_background_image_url_https': None, 'profile_background_tile': False, 'profile_image_url': 'http://pbs.twimg.com/profile_images/974972573091024896/K7ZXgtaA_normal.jpg', 'profile_image_url_https': 'https://pbs.twimg.com/profile_images/974972573091024896/K7ZXgtaA_normal.jpg', 'profile_banner_url': 'https://pbs.twimg.com/profile_banners/974963243155443713/1631912258', 'profile_link_color': '1DA1F2', 'profile_sidebar_border_color': 'C0DEED', 'profile_sidebar_fill_color': 'DDEEF6', 'profile_text_color': '333333', 'profile_use_background_image': True, 'has_extended_profile': False, 'default_profile': True, 'default_profile_image': False, 'following': False, 'follow_request_sent': False, 'notifications': False, 'translator_type': 'none', 'withheld_in_countries': []}, id=974963243155443713, id_str='974963243155443713', name='Pond Road Painter', screen_name='PondRoadPainter', location='New Jersey, USA', description='Oil painter (Mets, Jets, Rangers)', url=None, entities={'description': {'urls': []}}, protected=False, followers_count=211, friends_count=986, listed_count=4, created_at=datetime.datetime(2018, 3, 17, 10, 58, 45, tzinfo=datetime.timezone.utc), favourites_count=23831, utc_offset=None, time_zone=None, geo_enabled=False, verified=False, statuses_count=4348, lang=None, contributors_enabled=False, is_translator=False, is_translation_enabled=False, profile_background_color='F5F8FA', profile_background_image_url=None, profile_background_image_url_https=None, profile_background_tile=False, profile_image_url='http://pbs.twimg.com/profile_images/974972573091024896/K7ZXgtaA_normal.jpg', profile_image_url_https='https://pbs.twimg.com/profile_images/974972573091024896/K7ZXgtaA_normal.jpg', profile_banner_url='https://pbs.twimg.com/profile_banners/974963243155443713/1631912258', profile_link_color='1DA1F2', profile_sidebar_border_color='C0DEED', profile_sidebar_fill_color='DDEEF6', profile_text_color='333333', profile_use_background_image=True, has_extended_profile=False, default_profile=True, default_profile_image=False, following=False, follow_request_sent=False, notifications=False, translator_type='none', withheld_in_countries=[]), geo=None, coordinates=None, place=None, contributors=None, is_quote_status=False, retweet_count=0, favorite_count=0, favorited=False, retweeted=False, possibly_sensitive=False, lang='en')\n"
     ]
    }
   ],
   "source": [
    "cnt=0\n",
    "tweets_data = [] #initialize master list to hold our ready tweets\n",
    "for tweet in tweets:\n",
    "    print(cnt)    \n",
    "    print(tweet)\n",
    "    cnt=cnt+1"
   ]
  },
  {
   "cell_type": "code",
   "execution_count": 278,
   "id": "7858692c",
   "metadata": {},
   "outputs": [],
   "source": [
    "# https://developer.twitter.com/en/docs/twitter-api/v1/tweets/search/api-reference/get-search-tweets\n",
    "# https://docs.tweepy.org/en/stable/api.html#search-tweets\n",
    "tweets = tweepy.Cursor(api.search_tweets,\n",
    "              q=new_search,\n",
    "              lang=\"en\",\n",
    "              until=date_since).items(num_tweets)"
   ]
  },
  {
   "cell_type": "code",
   "execution_count": 279,
   "id": "a8b784c8",
   "metadata": {},
   "outputs": [
    {
     "data": {
      "text/plain": [
       "<tweepy.cursor.ItemIterator at 0x19ca0d27550>"
      ]
     },
     "execution_count": 279,
     "metadata": {},
     "output_type": "execute_result"
    }
   ],
   "source": [
    "tweets"
   ]
  },
  {
   "cell_type": "code",
   "execution_count": 280,
   "id": "f94bb1ed",
   "metadata": {},
   "outputs": [
    {
     "name": "stdout",
     "output_type": "stream",
     "text": [
      "0\n",
      "1\n",
      "2\n",
      "3\n",
      "4\n",
      "5\n"
     ]
    }
   ],
   "source": [
    "cnt=0\n",
    "tweets_data = [] #initialize master list to hold our ready tweets\n",
    "for tweet in tweets:\n",
    "    print(cnt)    \n",
    "    tweets_data.append([tweet.id_str,tweet.created_at,tweet.text.encode(\"utf-8\"),tweet.user.location])    \n",
    "    cnt=cnt+1"
   ]
  },
  {
   "cell_type": "code",
   "execution_count": 281,
   "id": "e9f2aa9e",
   "metadata": {},
   "outputs": [
    {
     "data": {
      "text/plain": [
       "[['1591209831075311616',\n",
       "  datetime.datetime(2022, 11, 11, 23, 22, 41, tzinfo=datetime.timezone.utc),\n",
       "  b'$15.00 a dose. The federal government orders too many doses and then throws away millions of doses due to expiry. N\\xe2\\x80\\xa6 https://t.co/GTS5UlkiTd',\n",
       "  'Red Deer, AB'],\n",
       " ['1590490921535143936',\n",
       "  datetime.datetime(2022, 11, 9, 23, 46, tzinfo=datetime.timezone.utc),\n",
       "  b'Come get your FREE updated (bivalent) COVID-19 booster at Purcellville Library on Thursday, November 17 from 3:00-5\\xe2\\x80\\xa6 https://t.co/Fq9BLM99mf',\n",
       "  'Loudoun County Virginia'],\n",
       " ['1589612952503844864',\n",
       "  datetime.datetime(2022, 11, 7, 13, 37, 16, tzinfo=datetime.timezone.utc),\n",
       "  b'@colossusPhD Well ivermectin worked for covid if you got it in time. It would have cost .2cents per dose to treat.\\xe2\\x80\\xa6 https://t.co/1A8Eh3UU6S',\n",
       "  'Canada'],\n",
       " ['1589528251197702144',\n",
       "  datetime.datetime(2022, 11, 7, 8, 0, 41, tzinfo=datetime.timezone.utc),\n",
       "  b'Today we are holding a #COVID Autumn Booster Clinic in the Corn Exchange in #Calne \\n\\n11:00 - 17:00 \\n\\nNo appointment\\xe2\\x80\\xa6 https://t.co/3b7QXkpUQG',\n",
       "  'Wiltshire'],\n",
       " ['1589374062559731714',\n",
       "  datetime.datetime(2022, 11, 6, 21, 48, tzinfo=datetime.timezone.utc),\n",
       "  b'Come get your FREE updated (bivalent) COVID-19 booster @ Cascades Library on Monday, November 14 from 3:00-5:00 PM.\\xe2\\x80\\xa6 https://t.co/hsZqCz5sNV',\n",
       "  'Loudoun County Virginia'],\n",
       " ['1588956598193512448',\n",
       "  datetime.datetime(2022, 11, 5, 18, 9, 9, tzinfo=datetime.timezone.utc),\n",
       "  b'Myopericarditis After COVID-19 Booster Dose Vaccination 9/100,00 &amp; 14/100,00 in men  https://t.co/omCrsi8GDV',\n",
       "  'New Jersey, USA']]"
      ]
     },
     "execution_count": 281,
     "metadata": {},
     "output_type": "execute_result"
    }
   ],
   "source": [
    "tweets_data"
   ]
  },
  {
   "cell_type": "code",
   "execution_count": 282,
   "id": "124d240b",
   "metadata": {},
   "outputs": [
    {
     "data": {
      "text/html": [
       "<div>\n",
       "<style scoped>\n",
       "    .dataframe tbody tr th:only-of-type {\n",
       "        vertical-align: middle;\n",
       "    }\n",
       "\n",
       "    .dataframe tbody tr th {\n",
       "        vertical-align: top;\n",
       "    }\n",
       "\n",
       "    .dataframe thead th {\n",
       "        text-align: right;\n",
       "    }\n",
       "</style>\n",
       "<table border=\"1\" class=\"dataframe\">\n",
       "  <thead>\n",
       "    <tr style=\"text-align: right;\">\n",
       "      <th></th>\n",
       "      <th>ID</th>\n",
       "      <th>Created_at</th>\n",
       "      <th>Text</th>\n",
       "      <th>Location</th>\n",
       "    </tr>\n",
       "  </thead>\n",
       "  <tbody>\n",
       "    <tr>\n",
       "      <th>0</th>\n",
       "      <td>1591209831075311616</td>\n",
       "      <td>2022-11-11 23:22:41+00:00</td>\n",
       "      <td>b'$15.00 a dose. The federal government orders...</td>\n",
       "      <td>Red Deer, AB</td>\n",
       "    </tr>\n",
       "    <tr>\n",
       "      <th>1</th>\n",
       "      <td>1590490921535143936</td>\n",
       "      <td>2022-11-09 23:46:00+00:00</td>\n",
       "      <td>b'Come get your FREE updated (bivalent) COVID-...</td>\n",
       "      <td>Loudoun County Virginia</td>\n",
       "    </tr>\n",
       "    <tr>\n",
       "      <th>2</th>\n",
       "      <td>1589612952503844864</td>\n",
       "      <td>2022-11-07 13:37:16+00:00</td>\n",
       "      <td>b'@colossusPhD Well ivermectin worked for covi...</td>\n",
       "      <td>Canada</td>\n",
       "    </tr>\n",
       "    <tr>\n",
       "      <th>3</th>\n",
       "      <td>1589528251197702144</td>\n",
       "      <td>2022-11-07 08:00:41+00:00</td>\n",
       "      <td>b'Today we are holding a #COVID Autumn Booster...</td>\n",
       "      <td>Wiltshire</td>\n",
       "    </tr>\n",
       "    <tr>\n",
       "      <th>4</th>\n",
       "      <td>1589374062559731714</td>\n",
       "      <td>2022-11-06 21:48:00+00:00</td>\n",
       "      <td>b'Come get your FREE updated (bivalent) COVID-...</td>\n",
       "      <td>Loudoun County Virginia</td>\n",
       "    </tr>\n",
       "    <tr>\n",
       "      <th>5</th>\n",
       "      <td>1588956598193512448</td>\n",
       "      <td>2022-11-05 18:09:09+00:00</td>\n",
       "      <td>b'Myopericarditis After COVID-19 Booster Dose ...</td>\n",
       "      <td>New Jersey, USA</td>\n",
       "    </tr>\n",
       "  </tbody>\n",
       "</table>\n",
       "</div>"
      ],
      "text/plain": [
       "                    ID                Created_at  \\\n",
       "0  1591209831075311616 2022-11-11 23:22:41+00:00   \n",
       "1  1590490921535143936 2022-11-09 23:46:00+00:00   \n",
       "2  1589612952503844864 2022-11-07 13:37:16+00:00   \n",
       "3  1589528251197702144 2022-11-07 08:00:41+00:00   \n",
       "4  1589374062559731714 2022-11-06 21:48:00+00:00   \n",
       "5  1588956598193512448 2022-11-05 18:09:09+00:00   \n",
       "\n",
       "                                                Text                 Location  \n",
       "0  b'$15.00 a dose. The federal government orders...             Red Deer, AB  \n",
       "1  b'Come get your FREE updated (bivalent) COVID-...  Loudoun County Virginia  \n",
       "2  b'@colossusPhD Well ivermectin worked for covi...                   Canada  \n",
       "3  b'Today we are holding a #COVID Autumn Booster...                Wiltshire  \n",
       "4  b'Come get your FREE updated (bivalent) COVID-...  Loudoun County Virginia  \n",
       "5  b'Myopericarditis After COVID-19 Booster Dose ...          New Jersey, USA  "
      ]
     },
     "execution_count": 282,
     "metadata": {},
     "output_type": "execute_result"
    }
   ],
   "source": [
    "tweets_df = pd.DataFrame(tweets_data,columns = [\"ID\",\"Created_at\",\"Text\",\"Location\"])\n",
    "tweets_df   "
   ]
  },
  {
   "cell_type": "code",
   "execution_count": null,
   "id": "b3359d9a",
   "metadata": {},
   "outputs": [],
   "source": [
    "tweets_df.to_csv(\"Firstdose.csv\")"
   ]
  },
  {
   "cell_type": "code",
   "execution_count": 228,
   "id": "aa086f4a",
   "metadata": {},
   "outputs": [],
   "source": []
  },
  {
   "cell_type": "code",
   "execution_count": null,
   "id": "d185eca7",
   "metadata": {},
   "outputs": [],
   "source": []
  }
 ],
 "metadata": {
  "kernelspec": {
   "display_name": "Python 3 (ipykernel)",
   "language": "python",
   "name": "python3"
  },
  "language_info": {
   "codemirror_mode": {
    "name": "ipython",
    "version": 3
   },
   "file_extension": ".py",
   "mimetype": "text/x-python",
   "name": "python",
   "nbconvert_exporter": "python",
   "pygments_lexer": "ipython3",
   "version": "3.9.12"
  }
 },
 "nbformat": 4,
 "nbformat_minor": 5
}
